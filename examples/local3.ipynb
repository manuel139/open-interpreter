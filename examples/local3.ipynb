{
 "cells": [
  {
   "cell_type": "markdown",
   "metadata": {},
   "source": [
    "This example uses Codestral via Ollama"
   ]
  },
  {
   "cell_type": "code",
   "execution_count": null,
   "metadata": {},
   "outputs": [],
   "source": [
    "!ollama run codestral"
   ]
  },
  {
   "cell_type": "code",
   "execution_count": null,
   "metadata": {},
   "outputs": [],
   "source": [
    "!pip install open-interpreter"
   ]
  },
  {
   "cell_type": "code",
   "execution_count": null,
   "metadata": {},
   "outputs": [],
   "source": [
    "from interpreter import interpreter\n",
    "\n",
    "interpreter.offline = True\n",
    "interpreter.llm.model = \"ollama/codestral\"\n",
    "interpreter.llm.api_base = \"http://localhost:11434\"\n",
    "interpreter.llm.context_window = 32000\n",
    "interpreter.llm.max_tokens = 8000\n",
    "interpreter.auto_run = True\n",
    "\n",
    "def run(prompt):\n",
    "    interpreter.chat(prompt)\n",
    "\n",
    "run(\"how many files are on my desktop?\")"
   ]
  }
 ],
 "metadata": {
  "kernelspec": {
   "display_name": "oi",
   "language": "python",
   "name": "python3"
  },
  "language_info": {
   "codemirror_mode": {
    "name": "ipython",
    "version": 3
   },
   "file_extension": ".py",
   "mimetype": "text/x-python",
   "name": "python",
   "nbconvert_exporter": "python",
   "pygments_lexer": "ipython3",
   "version": "3.11.9"
  }
 },
 "nbformat": 4,
 "nbformat_minor": 2
}
