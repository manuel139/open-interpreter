{
 "cells": [
  {
   "cell_type": "markdown",
   "metadata": {},
   "source": [
    "This example uses Codestral via ollama"
   ]
  },
  {
   "cell_type": "code",
   "execution_count": null,
   "metadata": {},
   "outputs": [],
   "source": [
    "!ollama run codestral"
   ]
  },
  {
   "cell_type": "code",
   "execution_count": null,
   "metadata": {},
   "outputs": [],
   "source": [
    "!pip install interpreter"
   ]
  },
  {
   "cell_type": "code",
   "execution_count": null,
   "metadata": {},
   "outputs": [],
   "source": [
    "from interpreter import interpreter\n",
    "\n",
    "interpreter.offline = True\n",
    "interpreter.llm.model = \"ollama/codestral\"\n",
    "interpreter.llm.api_base = \"http://localhost:11434\"\n",
    "interpreter.llm.context_window = 32000\n",
    "interpreter.llm.max_tokens = 8000\n",
    "interpreter.auto_run = True\n",
    "\n",
    "def run(prompt):\n",
    "    interpreter.chat(prompt)\n",
    "\n",
    "run(\"how many files are on my desktop?\")"
   ]
  }
 ],
 "metadata": {
  "language_info": {
   "name": "python"
  }
 },
 "nbformat": 4,
 "nbformat_minor": 2
}
